{
  "nbformat": 4,
  "nbformat_minor": 0,
  "metadata": {
    "colab": {
      "provenance": []
    },
    "kernelspec": {
      "name": "python3",
      "display_name": "Python 3"
    },
    "language_info": {
      "name": "python"
    }
  },
  "cells": [
    {
      "cell_type": "code",
      "execution_count": 3,
      "metadata": {
        "id": "q7XI_go7r6cM"
      },
      "outputs": [],
      "source": [
        "import pandas as pd\n",
        "import numpy as np\n",
        "from datetime import datetime, timedelta\n",
        "import warnings\n",
        "warnings.filterwarnings('ignore')"
      ]
    },
    {
      "cell_type": "markdown",
      "source": [
        "\n",
        "\n",
        "1.   import pandas as pd: นำเข้าไลบรารี pandas และตั้งชื่อย่อว่า pd ซึ่งใช้สำหรับการจัดการและวิเคราะห์ข้อมูลในรูปแบบตาราง (DataFrame)\n",
        "\n",
        "2. import numpy as np: นำเข้าไลบรารี numpy และตั้งชื่อย่อว่า np ใช้สำหรับการคำนวณทางคณิตศาสตร์และการจัดการอาเรย์\n",
        "\n",
        "3. from datetime import datetime, timedelta: นำเข้า datetime และ timedelta เพื่อใช้ในการจัดการกับวันที่และเวลา\n",
        "\n",
        "4. import warnings: นำเข้าโมดูล warnings ใช้ในการควบคุมการแสดงคำเตือน (warnings)\n",
        "\n",
        "5. warnings.filterwarnings('ignore'): ปิดการแสดงคำเตือนทั้งหมดในระหว่างการรันโค้ด เพื่อไม่ให้มีข้อความเตือนที่อาจเกิดขึ้น\n",
        "\n"
      ],
      "metadata": {
        "id": "ozj8Q3oLsy0d"
      }
    },
    {
      "cell_type": "code",
      "source": [
        "np.random.seed(42)"
      ],
      "metadata": {
        "id": "84ELNAN9tYn6"
      },
      "execution_count": 4,
      "outputs": []
    },
    {
      "cell_type": "markdown",
      "source": [
        "1. กำหนดค่า \"seed\" ให้กับการสุ่มของ numpy เพื่อให้ผลลัพธ์การสุ่มที่ได้สามารถทำซ้ำได้ (deterministic) ทุกครั้งที่รันโค้ดด้วยค่า seed เดียวกัน."
      ],
      "metadata": {
        "id": "2xPrBu0KuXQm"
      }
    },
    {
      "cell_type": "code",
      "source": [
        "student_data = {\n",
        "    'รหัสนักศึกษา': [f'64{str(i).zfill(3)}' for i in range(1, 21)],\n",
        "    'ชื่อ': ['สมชาย', 'สมหญิง', None, 'สมศักดิ์', 'สมใจ', 'กานต์', 'กิตติ',\n",
        "             'จิรา', 'ชนาธิป', 'ดารา', 'ธีระ', 'นภา', 'บุญมี', 'ปรีชา',\n",
        "             'พิมพ์', 'ภูมิ', 'มานี', 'ยุพา', 'รัตนา', 'ลัดดา'],\n",
        "    'อายุ': [20, 21, None, 22, 19, 150, 21, 20, 23, 21,  # 150 = outlier\n",
        "            None, 22, 20, 21, 22, 19, 20, 21, None, 22],\n",
        "    'เพศ': ['ชาย', 'หญิง', 'Male', 'ช', 'ญ', 'ชาย', 'หญิง', 'F', 'M', 'หญิง',\n",
        "            None, 'ชาย', 'หญิง', 'ชาย', 'Female', 'ช', 'ญ', 'หญิง', 'ชาย', None],\n",
        "    'คณะ': ['วิทยาศาสตร์', 'วิทย์', 'Science', 'คณะวิทยาศาสตร์', 'วิศวะ',\n",
        "            'Engineering', 'วิศวกรรม', 'ศิลปศาสตร์', 'Arts', 'ศิลป์',\n",
        "            None, 'วิทย์', 'วิศวฯ', 'Liberal Arts', 'Sci',\n",
        "            'วิทยาศาสตร์', 'วิศวกรรมศาสตร์', None, 'ศิลปศาสตร์', 'Science'],\n",
        "    'GPA': [3.21, 3.45, 3.67, -1, 3.89, 3.12, 4.5, 2.98, 3.34, 3.56,\n",
        "            3.78, None, 3.23, 3.45, 3.67, 3.89, 3.01, 3.23, None, 3.45],\n",
        "    'ส่วนสูง_cm': [170, 165, 175, 168, 160, 172, 158, 180, 163, 167,\n",
        "                  None, 171, 169, 164, 162, 173, 166, 161, 174, 168],\n",
        "    'น้ำหนัก_kg': [65, 58, None, 70, 52, 75, 48, 82, 55, 60,\n",
        "                  68, None, 72, 54, 56, 78, 62, 50, 76, 64],\n",
        "    'ชั่วโมงเรียน_ต่อสัปดาห์': [15, 20, 25, 10, 30, 12, 35, 18, 22, 28,\n",
        "                              None, 16, 24, 19, 26, 14, 21, 27, None, 23]\n",
        "}\n"
      ],
      "metadata": {
        "id": "LtL5w_cOtjhm"
      },
      "execution_count": 5,
      "outputs": []
    },
    {
      "cell_type": "markdown",
      "source": [
        "1. data = {...} - สร้าง dictionary เพื่อเก็บข้อมูลโดยมี key เป็นชื่อคอลัมน์ และ value เป็น list ของข้อมูลในคอลัมน์นั้น\n",
        "2. None/NaN - เป็นค่าพิเศษที่แทนค่าว่าง หรือไม่มีข้อมูล"
      ],
      "metadata": {
        "id": "OqFL2GFcumcL"
      }
    },
    {
      "cell_type": "code",
      "source": [
        "df_master = pd.DataFrame(student_data)"
      ],
      "metadata": {
        "id": "LfsLUqX8tjfR"
      },
      "execution_count": 6,
      "outputs": []
    },
    {
      "cell_type": "markdown",
      "source": [
        "1. pd.DataFrame(data) - แปลง dictionary ให้กลายเป็น DataFrame ซึ่งเป็นโครงสร้างข้อมูลแบบตาราง"
      ],
      "metadata": {
        "id": "2DJEXcuYuw3E"
      }
    },
    {
      "cell_type": "code",
      "source": [
        "base_date = datetime(2024, 1, 15)\n",
        "df_master['วันที่ลงทะเบียน'] = [base_date + timedelta(days=np.random.randint(-30, 30))\n",
        "                                for _ in range(20)]"
      ],
      "metadata": {
        "id": "WIEGFjVttjaR"
      },
      "execution_count": 7,
      "outputs": []
    },
    {
      "cell_type": "markdown",
      "source": [
        "1. โค้ดนี้จะสร้างคอลัมน์ 'วันที่ลงทะเบียน' ใน DataFrame df_master โดยการกำหนดวันที่ให้เป็น base_date (15 มกราคม 2024) แล้วเพิ่มหรือลดจำนวนวันสุ่มในช่วง -30 ถึง 30 วัน สำหรับแต่ละแถว (20 แถว).\n",
        "\n"
      ],
      "metadata": {
        "id": "PMV6C4IGu6bf"
      }
    },
    {
      "cell_type": "code",
      "source": [
        "print(\"=\"*50)\n",
        "print(\"🎯 ข้อมูลหลัก (Master Dataset) ที่จะใช้ตลอดบทเรียน\")\n",
        "print(\"=\"*50)\n",
        "print(df_master)\n",
        "print(\"\\n📊 สรุปปัญหาที่พบในข้อมูล:\")\n",
        "print(f\"- ค่าหายทั้งหมด: {df_master.isnull().sum().sum()} ค่า\")\n",
        "print(f\"- อายุผิดปกติ: {df_master[df_master['อายุ'] > 100]['อายุ'].values if any(df_master['อายุ'] > 100) else 'ไม่มี'}\")\n",
        "print(f\"- GPA ผิดปกติ: {df_master[(df_master['GPA'] < 0) | (df_master['GPA'] > 4)]['GPA'].values if any((df_master['GPA'] < 0) | (df_master['GPA'] > 4)) else 'ไม่มี'}\")\n",
        "print(f\"- รูปแบบการเขียนคณะ: {df_master['คณะ'].nunique()} แบบ\")\n",
        "print(f\"- รูปแบบการเขียนเพศ: {df_master['เพศ'].nunique()} แบบ\")"
      ],
      "metadata": {
        "colab": {
          "base_uri": "https://localhost:8080/"
        },
        "id": "AL-ReYZstjTU",
        "outputId": "9c1ea117-469d-4528-d0dd-0176f8279480"
      },
      "execution_count": 8,
      "outputs": [
        {
          "output_type": "stream",
          "name": "stdout",
          "text": [
            "==================================================\n",
            "🎯 ข้อมูลหลัก (Master Dataset) ที่จะใช้ตลอดบทเรียน\n",
            "==================================================\n",
            "   รหัสนักศึกษา      ชื่อ   อายุ     เพศ             คณะ   GPA  ส่วนสูง_cm  \\\n",
            "0         64001     สมชาย   20.0     ชาย     วิทยาศาสตร์  3.21       170.0   \n",
            "1         64002    สมหญิง   21.0    หญิง           วิทย์  3.45       165.0   \n",
            "2         64003      None    NaN    Male         Science  3.67       175.0   \n",
            "3         64004  สมศักดิ์   22.0       ช  คณะวิทยาศาสตร์ -1.00       168.0   \n",
            "4         64005      สมใจ   19.0       ญ           วิศวะ  3.89       160.0   \n",
            "5         64006     กานต์  150.0     ชาย     Engineering  3.12       172.0   \n",
            "6         64007     กิตติ   21.0    หญิง        วิศวกรรม  4.50       158.0   \n",
            "7         64008      จิรา   20.0       F      ศิลปศาสตร์  2.98       180.0   \n",
            "8         64009    ชนาธิป   23.0       M            Arts  3.34       163.0   \n",
            "9         64010      ดารา   21.0    หญิง           ศิลป์  3.56       167.0   \n",
            "10        64011      ธีระ    NaN    None            None  3.78         NaN   \n",
            "11        64012       นภา   22.0     ชาย           วิทย์   NaN       171.0   \n",
            "12        64013     บุญมี   20.0    หญิง           วิศวฯ  3.23       169.0   \n",
            "13        64014     ปรีชา   21.0     ชาย    Liberal Arts  3.45       164.0   \n",
            "14        64015     พิมพ์   22.0  Female             Sci  3.67       162.0   \n",
            "15        64016      ภูมิ   19.0       ช     วิทยาศาสตร์  3.89       173.0   \n",
            "16        64017      มานี   20.0       ญ  วิศวกรรมศาสตร์  3.01       166.0   \n",
            "17        64018      ยุพา   21.0    หญิง            None  3.23       161.0   \n",
            "18        64019     รัตนา    NaN     ชาย      ศิลปศาสตร์   NaN       174.0   \n",
            "19        64020     ลัดดา   22.0    None         Science  3.45       168.0   \n",
            "\n",
            "    น้ำหนัก_kg  ชั่วโมงเรียน_ต่อสัปดาห์ วันที่ลงทะเบียน  \n",
            "0         65.0                     15.0      2024-01-23  \n",
            "1         58.0                     20.0      2024-02-05  \n",
            "2          NaN                     25.0      2024-01-13  \n",
            "3         70.0                     10.0      2023-12-30  \n",
            "4         52.0                     30.0      2024-01-27  \n",
            "5         75.0                     12.0      2023-12-23  \n",
            "6         48.0                     35.0      2024-01-05  \n",
            "7         82.0                     18.0      2024-01-23  \n",
            "8         55.0                     22.0      2024-02-11  \n",
            "9         60.0                     28.0      2024-01-03  \n",
            "10        68.0                      NaN      2024-01-07  \n",
            "11         NaN                     16.0      2023-12-26  \n",
            "12        72.0                     24.0      2023-12-26  \n",
            "13        54.0                     19.0      2024-01-08  \n",
            "14        56.0                     26.0      2024-02-06  \n",
            "15        78.0                     14.0      2024-01-20  \n",
            "16        62.0                     21.0      2024-01-24  \n",
            "17        50.0                     27.0      2024-01-08  \n",
            "18        76.0                      NaN      2023-12-18  \n",
            "19        64.0                     23.0      2024-01-06  \n",
            "\n",
            "📊 สรุปปัญหาที่พบในข้อมูล:\n",
            "- ค่าหายทั้งหมด: 15 ค่า\n",
            "- อายุผิดปกติ: [150.]\n",
            "- GPA ผิดปกติ: [-1.   4.5]\n",
            "- รูปแบบการเขียนคณะ: 14 แบบ\n",
            "- รูปแบบการเขียนเพศ: 8 แบบ\n"
          ]
        }
      ]
    },
    {
      "cell_type": "markdown",
      "source": [
        "1. print(df) - แสดงผลข้อมูลในรูปแบบตาราง จะเห็นว่ามี NaN ปรากฏในตำแหน่งที่มีค่า None"
      ],
      "metadata": {
        "id": "h2JxmkzBvIe8"
      }
    },
    {
      "cell_type": "code",
      "source": [
        "df_original = df_master.copy()"
      ],
      "metadata": {
        "id": "3gb2yiELtjN4"
      },
      "execution_count": 9,
      "outputs": []
    },
    {
      "cell_type": "markdown",
      "source": [
        "1. เก็บสำเนาข้อมูลต้นฉบับ"
      ],
      "metadata": {
        "id": "4tRjgXYmvSAL"
      }
    },
    {
      "cell_type": "code",
      "source": [
        "print(\"=\"*50)\n",
        "print(\"📋 ข้อมูลทั่วไปของ Dataset\")\n",
        "print(\"=\"*50)\n",
        "df_master.info()\n",
        "\n",
        "print(\"\\n\" + \"=\"*50)\n",
        "print(\"📊 สถิติเชิงพรรณนา\")\n",
        "print(\"=\"*50)\n",
        "print(df_master.describe())"
      ],
      "metadata": {
        "colab": {
          "base_uri": "https://localhost:8080/"
        },
        "id": "lDwwz8SXtseJ",
        "outputId": "30ad661e-abae-4856-8467-dcdaad4add6c"
      },
      "execution_count": 10,
      "outputs": [
        {
          "output_type": "stream",
          "name": "stdout",
          "text": [
            "==================================================\n",
            "📋 ข้อมูลทั่วไปของ Dataset\n",
            "==================================================\n",
            "<class 'pandas.core.frame.DataFrame'>\n",
            "RangeIndex: 20 entries, 0 to 19\n",
            "Data columns (total 10 columns):\n",
            " #   Column                   Non-Null Count  Dtype         \n",
            "---  ------                   --------------  -----         \n",
            " 0   รหัสนักศึกษา             20 non-null     object        \n",
            " 1   ชื่อ                     19 non-null     object        \n",
            " 2   อายุ                     17 non-null     float64       \n",
            " 3   เพศ                      18 non-null     object        \n",
            " 4   คณะ                      18 non-null     object        \n",
            " 5   GPA                      18 non-null     float64       \n",
            " 6   ส่วนสูง_cm               19 non-null     float64       \n",
            " 7   น้ำหนัก_kg               18 non-null     float64       \n",
            " 8   ชั่วโมงเรียน_ต่อสัปดาห์  18 non-null     float64       \n",
            " 9   วันที่ลงทะเบียน          20 non-null     datetime64[ns]\n",
            "dtypes: datetime64[ns](1), float64(5), object(4)\n",
            "memory usage: 1.7+ KB\n",
            "\n",
            "==================================================\n",
            "📊 สถิติเชิงพรรณนา\n",
            "==================================================\n",
            "             อายุ        GPA  ส่วนสูง_cm  น้ำหนัก_kg  ชั่วโมงเรียน_ต่อสัปดาห์  \\\n",
            "count   17.000000  18.000000   19.000000   18.000000                18.000000   \n",
            "mean    28.470588   3.246111  167.684211   63.611111                21.388889   \n",
            "min     19.000000  -1.000000  158.000000   48.000000                10.000000   \n",
            "25%     20.000000   3.215000  163.500000   55.250000                16.500000   \n",
            "50%     21.000000   3.450000  168.000000   63.000000                21.500000   \n",
            "75%     22.000000   3.670000  171.500000   71.500000                25.750000   \n",
            "max    150.000000   4.500000  180.000000   82.000000                35.000000   \n",
            "std     31.337114   1.123326    5.706260   10.279270                 6.598920   \n",
            "\n",
            "           วันที่ลงทะเบียน  \n",
            "count                   20  \n",
            "mean   2024-01-12 12:00:00  \n",
            "min    2023-12-18 00:00:00  \n",
            "25%    2024-01-02 00:00:00  \n",
            "50%    2024-01-08 00:00:00  \n",
            "75%    2024-01-23 06:00:00  \n",
            "max    2024-02-11 00:00:00  \n",
            "std                    NaN  \n"
          ]
        }
      ]
    },
    {
      "cell_type": "markdown",
      "source": [
        "1. ใช้ df_master.info() เพื่อแสดงข้อมูลพื้นฐานเกี่ยวกับ DataFrame เช่น จำนวนแถวและคอลัมน์, ชนิดของข้อมูล, และค่าที่ไม่เป็น null.\n",
        "2. ใช้ df_master.describe() เพื่อแสดงสถิติพื้นฐานของคอลัมน์ตัวเลข เช่น ค่าเฉลี่ย, ส่วนเบี่ยงเบนมาตรฐาน, ค่าต่ำสุด, ค่าสูงสุด, และควอไทล์."
      ],
      "metadata": {
        "id": "1fbF_74Yvqeg"
      }
    },
    {
      "cell_type": "code",
      "source": [
        "missing_counts = df_master.isnull().sum()\n",
        "print(\"\\n❌ ค่าหายในแต่ละคอลัมน์:\")\n",
        "for col, count in missing_counts[missing_counts > 0].items():\n",
        "    percentage = (count / len(df_master)) * 100\n",
        "    print(f\"   - {col}: {count} ค่า ({percentage:.1f}%)\")"
      ],
      "metadata": {
        "colab": {
          "base_uri": "https://localhost:8080/"
        },
        "id": "znrJpYrxtsam",
        "outputId": "09d8d92c-09e2-42f0-8ac1-3e440f96b055"
      },
      "execution_count": 11,
      "outputs": [
        {
          "output_type": "stream",
          "name": "stdout",
          "text": [
            "\n",
            "❌ ค่าหายในแต่ละคอลัมน์:\n",
            "   - ชื่อ: 1 ค่า (5.0%)\n",
            "   - อายุ: 3 ค่า (15.0%)\n",
            "   - เพศ: 2 ค่า (10.0%)\n",
            "   - คณะ: 2 ค่า (10.0%)\n",
            "   - GPA: 2 ค่า (10.0%)\n",
            "   - ส่วนสูง_cm: 1 ค่า (5.0%)\n",
            "   - น้ำหนัก_kg: 2 ค่า (10.0%)\n",
            "   - ชั่วโมงเรียน_ต่อสัปดาห์: 2 ค่า (10.0%)\n"
          ]
        }
      ]
    },
    {
      "cell_type": "markdown",
      "source": [
        "1.ใช้ df_master.isnull().sum() เพื่อตรวจสอบจำนวนค่าที่หายไปในแต่ละคอลัมน์\n",
        "จากนั้นจะพิมพ์จำนวนและเปอร์เซ็นต์ของค่าหายในแต่ละคอลัมน์ที่มีค่าหายไป"
      ],
      "metadata": {
        "id": "eOVEVjWhvy2A"
      }
    },
    {
      "cell_type": "code",
      "source": [
        "#ตัวอย่างข้อมูลที่มีค่าหายเพียงเล็กน้อย\n",
        "import pandas as pd"
      ],
      "metadata": {
        "id": "5uvBXEdNv7s8"
      },
      "execution_count": 21,
      "outputs": []
    },
    {
      "cell_type": "markdown",
      "source": [
        "1. import pandas as pd - นำเข้าไลบรารี pandas ซึ่งเป็นเครื่องมือหลักในการจัดการข้อมูลใน Python และตั้งชื่อย่อว่า pd"
      ],
      "metadata": {
        "id": "xNKZB5A1wAiW"
      }
    },
    {
      "cell_type": "code",
      "source": [
        "data = {\n",
        "    'ชื่อ': ['ก้อง', 'กล้า', 'กิ่ง', 'กานต์', 'กุล', 'กบ', 'กิตติ', 'กมล', 'กร', 'กนก'],\n",
        "    'อายุ': [21, 22, 20, 21, None, 22, 21, 20, 21, 22],  # เฉพาะกุลไม่กรอกอายุ\n",
        "    'GPA': [3.5, 3.2, 3.8, 3.0, 3.7, 3.3, 3.6, 3.4, 3.1, 3.9]\n",
        "}"
      ],
      "metadata": {
        "id": "h-c19fQCwE0J"
      },
      "execution_count": 15,
      "outputs": []
    },
    {
      "cell_type": "markdown",
      "source": [
        "1. data = {...} - สร้าง dictionary เพื่อเก็บข้อมูลโดยมี key เป็นชื่อคอลัมน์ และ value เป็น list ของข้อมูลในคอลัมน์นั้น"
      ],
      "metadata": {
        "id": "PBzO-8lawZT_"
      }
    },
    {
      "cell_type": "code",
      "source": [
        "df = pd.DataFrame(data)"
      ],
      "metadata": {
        "id": "Ucs_RmVowHwO"
      },
      "execution_count": 16,
      "outputs": []
    },
    {
      "cell_type": "markdown",
      "source": [
        "1. pd.DataFrame(data) - แปลง dictionary ให้กลายเป็น DataFrame ซึ่งเป็นโครงสร้างข้อมูลแบบตาราง"
      ],
      "metadata": {
        "id": "SDhjuPYawfq-"
      }
    },
    {
      "cell_type": "code",
      "source": [
        "print(\"ก่อนลบ\")\n",
        "print(df)"
      ],
      "metadata": {
        "colab": {
          "base_uri": "https://localhost:8080/"
        },
        "id": "ewmOjKz6wL4P",
        "outputId": "423b9906-ab4d-45c1-d581-d94169a303e2"
      },
      "execution_count": 17,
      "outputs": [
        {
          "output_type": "stream",
          "name": "stdout",
          "text": [
            "ก่อนลบ\n",
            "    ชื่อ  อายุ  GPA\n",
            "0   ก้อง  21.0  3.5\n",
            "1   กล้า  22.0  3.2\n",
            "2   กิ่ง  20.0  3.8\n",
            "3  กานต์  21.0  3.0\n",
            "4    กุล   NaN  3.7\n",
            "5     กบ  22.0  3.3\n",
            "6  กิตติ  21.0  3.6\n",
            "7    กมล  20.0  3.4\n",
            "8     กร  21.0  3.1\n",
            "9    กนก  22.0  3.9\n"
          ]
        }
      ]
    },
    {
      "cell_type": "markdown",
      "source": [
        "1. แสดงข้อมูลก่อนลบ"
      ],
      "metadata": {
        "id": "y9NIZxMgwnDr"
      }
    },
    {
      "cell_type": "code",
      "source": [
        "df_clean = df.dropna()"
      ],
      "metadata": {
        "id": "uXhGlN04wM7L"
      },
      "execution_count": 19,
      "outputs": []
    },
    {
      "cell_type": "markdown",
      "source": [
        "1. df.dropna() - ลบแถวทั้งหมดที่มีค่า NaN (ค่าหาย) ออกจาก DataFrame\n",
        " * จะลบทั้งแถวถ้าคอลัมน์ใดคอลัมน์หนึ่งมี NaN\n",
        " * ในตัวอย่างนี้ - ลบแถวของกุลที่ไม่กรอกอายุ\n",
        "2. df_clean - เก็บ DataFrame ใหม่ที่ลบค่าหายออกแล้ว (ไม่แก้ไข df เดิม)"
      ],
      "metadata": {
        "id": "4laISeCiwzYw"
      }
    },
    {
      "cell_type": "code",
      "source": [
        "print(f\"\\nผลการลบ - ก่อนลบ {len(df)} แถว, หลังลบ {len(df_clean)} แถว\")\n",
        "print(\"หลังลบ (เหลือ 9 คน):\")\n",
        "print(df_clean)"
      ],
      "metadata": {
        "colab": {
          "base_uri": "https://localhost:8080/"
        },
        "id": "56U9EKVBwM2p",
        "outputId": "544ddd69-e48f-40b4-ab30-b5c0e8096178"
      },
      "execution_count": 20,
      "outputs": [
        {
          "output_type": "stream",
          "name": "stdout",
          "text": [
            "\n",
            "ผลการลบ - ก่อนลบ 10 แถว, หลังลบ 9 แถว\n",
            "หลังลบ (เหลือ 9 คน):\n",
            "    ชื่อ  อายุ  GPA\n",
            "0   ก้อง  21.0  3.5\n",
            "1   กล้า  22.0  3.2\n",
            "2   กิ่ง  20.0  3.8\n",
            "3  กานต์  21.0  3.0\n",
            "5     กบ  22.0  3.3\n",
            "6  กิตติ  21.0  3.6\n",
            "7    กมล  20.0  3.4\n",
            "8     กร  21.0  3.1\n",
            "9    กนก  22.0  3.9\n"
          ]
        }
      ]
    },
    {
      "cell_type": "markdown",
      "source": [
        "1. len(df) - นับจำนวนแถวทั้งหมด = 10 แถว\n",
        "2. len(df_clean) - นับจำนวนแถวหลังลบ = 9 แถว\n",
        "3. ข้อควรระวัง - ถ้าข้อมูลหายเยอะ วิธีนี้จะทำให้ข้อมูลเหลือน้อยมาก"
      ],
      "metadata": {
        "id": "q4er0ji0xadv"
      }
    },
    {
      "cell_type": "code",
      "source": [
        "# ตัวอย่างข้อมูลนักศึกษาที่มีอายุหาย\n",
        "import pandas as pd"
      ],
      "metadata": {
        "id": "dFMidEJlxlaS"
      },
      "execution_count": 23,
      "outputs": []
    },
    {
      "cell_type": "markdown",
      "source": [
        "1. import pandas as pd - นำเข้าไลบรารี pandas ซึ่งเป็นเครื่องมือหลักในการจัดการข้อมูลใน Python และตั้งชื่อย่อว่า pd"
      ],
      "metadata": {
        "id": "sUQPB-uOx-6y"
      }
    },
    {
      "cell_type": "code",
      "source": [
        "data = {\n",
        "    'ชื่อ': ['สมชาย', 'สมหญิง', 'สมศักดิ์', 'สมใจ', 'สมปอง'],\n",
        "    'อายุ': [20, None, 19, 22, 21]  # สมหญิงไม่ได้กรอกอายุ\n",
        "}"
      ],
      "metadata": {
        "id": "W48itg3dyL1r"
      },
      "execution_count": null,
      "outputs": []
    },
    {
      "cell_type": "code",
      "source": [
        "df = pd.DataFrame(data)"
      ],
      "metadata": {
        "id": "ofy43SqeyMld"
      },
      "execution_count": 24,
      "outputs": []
    },
    {
      "cell_type": "markdown",
      "source": [
        "1. data = {...} - สร้างข้อมูลตัวอย่าง 5 คน โดยคนที่ 2 (สมหญิง) ไม่ได้กรอกอายุ (None)"
      ],
      "metadata": {
        "id": "5nWmWmsqybGg"
      }
    },
    {
      "cell_type": "code",
      "source": [
        "print(\"ก่อนเติมค่า\")\n",
        "print(df)\n"
      ],
      "metadata": {
        "colab": {
          "base_uri": "https://localhost:8080/"
        },
        "id": "z-gLz4XMyM3b",
        "outputId": "b1c79fde-00d1-4a1e-fff5-dd2b34b9975f"
      },
      "execution_count": 26,
      "outputs": [
        {
          "output_type": "stream",
          "name": "stdout",
          "text": [
            "ก่อนเติมค่า\n",
            "    ชื่อ  อายุ  GPA\n",
            "0   ก้อง  21.0  3.5\n",
            "1   กล้า  22.0  3.2\n",
            "2   กิ่ง  20.0  3.8\n",
            "3  กานต์  21.0  3.0\n",
            "4    กุล   NaN  3.7\n",
            "5     กบ  22.0  3.3\n",
            "6  กิตติ  21.0  3.6\n",
            "7    กมล  20.0  3.4\n",
            "8     กร  21.0  3.1\n",
            "9    กนก  22.0  3.9\n"
          ]
        }
      ]
    },
    {
      "cell_type": "markdown",
      "source": [
        "1. แสดงข้อมูลก่อนเติมค่า"
      ],
      "metadata": {
        "id": "zb_5RlNeyfAG"
      }
    },
    {
      "cell_type": "code",
      "source": [
        "mean_age = df['อายุ'].mean()\n",
        "df['อายุ'].fillna(mean_age, inplace=True)\n"
      ],
      "metadata": {
        "id": "3sHaq-swyNDE"
      },
      "execution_count": 28,
      "outputs": []
    },
    {
      "cell_type": "markdown",
      "source": [
        "1. df['อายุ'].mean() - คำนวณค่าเฉลี่ยของคอลัมน์ 'อายุ' โดยไม่นับรวมค่า NaN\n",
        " * ในตัวอย่างนี้ - (20 + 19 + 22 + 21) / 4 = 20.5 ปี\n",
        " * pandas ข้ามค่า NaN อัตโนมัติ\n",
        " 2. fillna(mean_age, inplace=True) - เติมค่า 20.5 ลงในช่องที่เป็น NaN (ของสมหญิง)\n",
        " * inplace=True หมายถึงแก้ไขข้อมูลใน DataFrame เดิมโดยตรง ไม่สร้าง DataFrame ใหม่\n",
        " * f\"{mean_age:.1f}\" - แสดงผลค่าเฉลี่ยโดยมีทศนิยม 1 ตำแหน่ง (.1f)\n",
        " * วิธีนี้เหมาะกับข้อมูลตัวเลขที่มีการกระจายตัวปกติ\n",
        "\n"
      ],
      "metadata": {
        "id": "_QxnffwJykcL"
      }
    },
    {
      "cell_type": "code",
      "source": [
        "print(f\"\\nค่าเฉลี่ยอายุ - {mean_age:.1f} ปี\")\n",
        "print(\"หลังเติมค่า\")\n",
        "print(df)"
      ],
      "metadata": {
        "id": "xJxmo7nsyNKv"
      },
      "execution_count": null,
      "outputs": []
    },
    {
      "cell_type": "code",
      "source": [
        "# ตัวอย่างข้อมูลนักศึกษาที่มีคณะหาย\n",
        "import pandas as pd"
      ],
      "metadata": {
        "id": "JQD6d0aSyNPb"
      },
      "execution_count": 29,
      "outputs": []
    },
    {
      "cell_type": "code",
      "source": [
        "data = {\n",
        "    'ชื่อ': ['สมชาย', 'สมหญิง', 'สมศักดิ์', 'สมใจ', 'สมปอง'],\n",
        "    'คณะ': ['วิทยาศาสตร์', 'วิทยาศาสตร์', None, 'ศิลปศาสตร์', 'วิทย์']\n",
        "}"
      ],
      "metadata": {
        "id": "A85G8VGxyNSU"
      },
      "execution_count": 30,
      "outputs": []
    },
    {
      "cell_type": "markdown",
      "source": [
        "1. data = {...} - สร้างข้อมูลตัวอย่าง 5 คน โดยคนที่ 3 (สมศักดิ์) ไม่ได้กรอกคณะ (None)"
      ],
      "metadata": {
        "id": "c6j1zk2bzBE6"
      }
    },
    {
      "cell_type": "code",
      "source": [
        "df = pd.DataFrame(data)"
      ],
      "metadata": {
        "id": "xdpYC_pLyNUZ"
      },
      "execution_count": 31,
      "outputs": []
    },
    {
      "cell_type": "code",
      "source": [
        "print(\"ก่อนเติมค่า\")\n",
        "print(df)"
      ],
      "metadata": {
        "colab": {
          "base_uri": "https://localhost:8080/"
        },
        "id": "50O6pkHlzIY0",
        "outputId": "3cf95838-aec1-463d-a2b3-c33225e87b71"
      },
      "execution_count": 32,
      "outputs": [
        {
          "output_type": "stream",
          "name": "stdout",
          "text": [
            "ก่อนเติมค่า\n",
            "       ชื่อ          คณะ\n",
            "0     สมชาย  วิทยาศาสตร์\n",
            "1    สมหญิง  วิทยาศาสตร์\n",
            "2  สมศักดิ์         None\n",
            "3      สมใจ   ศิลปศาสตร์\n",
            "4     สมปอง        วิทย์\n"
          ]
        }
      ]
    },
    {
      "cell_type": "markdown",
      "source": [
        "1. แสดงข้อมูลก่อนเติมค่า"
      ],
      "metadata": {
        "id": "2CRVxdijzJvU"
      }
    },
    {
      "cell_type": "code",
      "source": [
        "df['คณะ'].fillna(df['คณะ'].mode()[0], inplace=True)"
      ],
      "metadata": {
        "id": "29gmENaOzO9J"
      },
      "execution_count": 33,
      "outputs": []
    },
    {
      "cell_type": "markdown",
      "source": [
        "1. df['คณะ'].mode() - หาค่าที่พบบ่อยที่สุด (Mode) ในคอลัมน์ 'คณะ'\n",
        "ในตัวอย่างนี้ - 'วิทยาศาสตร์' พบ 3 ครั้ง, 'ศิลปศาสตร์' พบ 1 ครั้ง\n",
        "ดังนั้น mode = 'วิทยาศาสตร์'\n",
        "2. [0] - เลือกค่า mode ตัวแรก (ในกรณีที่มีหลายค่าที่พบบ่อยเท่ากัน)\n",
        "3. fillna(..., inplace=True) - เติม 'วิทยาศาสตร์' ลงในช่องที่เป็น NaN (ของสมศักดิ์)"
      ],
      "metadata": {
        "id": "be1VUhEpzUFc"
      }
    },
    {
      "cell_type": "code",
      "source": [
        "print(\"\\nหลังเติมค่า\")\n",
        "print(df)"
      ],
      "metadata": {
        "colab": {
          "base_uri": "https://localhost:8080/"
        },
        "id": "9QYNGvaezZxC",
        "outputId": "0542e04c-7e7e-4ad6-e251-3be83cc18100"
      },
      "execution_count": 35,
      "outputs": [
        {
          "output_type": "stream",
          "name": "stdout",
          "text": [
            "\n",
            "หลังเติมค่า\n",
            "       ชื่อ          คณะ\n",
            "0     สมชาย  วิทยาศาสตร์\n",
            "1    สมหญิง  วิทยาศาสตร์\n",
            "2  สมศักดิ์  วิทยาศาสตร์\n",
            "3      สมใจ   ศิลปศาสตร์\n",
            "4     สมปอง        วิทย์\n"
          ]
        }
      ]
    },
    {
      "cell_type": "markdown",
      "source": [
        "1. print() - แสดงผลก่อนและหลังเติมค่าเพื่อเปรียบเทียบ\n",
        "2. วิธีนี้เหมาะกับข้อมูลประเภท (categorical) เช่น คณะ สี ขนาด เพราะไม่สามารถหาค่าเฉลี่ยได้"
      ],
      "metadata": {
        "id": "APL2FcjIzdnb"
      }
    },
    {
      "cell_type": "code",
      "source": [
        "def standardize_faculty(name):\n",
        "    if name in ['วิทยาศาสตร์', 'วิทย์', 'Science', 'คณะวิทยาศาสตร์']:\n",
        "        return 'วิทยาศาสตร์'\n",
        "    elif name in ['ศิลปศาสตร์', 'ศิลป์', 'Arts']:\n",
        "        return 'ศิลปศาสตร์'\n",
        "    else:\n",
        "        return name"
      ],
      "metadata": {
        "id": "kGrVgmUWzjK2"
      },
      "execution_count": 36,
      "outputs": []
    },
    {
      "cell_type": "markdown",
      "source": [
        "1. def standardize_faculty(name): - สร้างฟังก์ชันที่รับชื่อคณะเข้ามาแล้วแปลงเป็นชื่อมาตรฐาน\n",
        "2. if name in [...] - ตรวจสอบว่าชื่อที่รับเข้ามาอยู่ใน list ของชื่อที่เป็นไปได้หรือไม่\n",
        "3. return 'วิทยาศาสตร์' - คืนค่าชื่อคณะที่เป็นมาตรฐาน\n",
        "4. else: return name - ถ้าไม่ตรงกับเงื่อนไขใดๆ ให้คืนชื่อเดิม\n",
        "5. df['คณะ'].apply(standardize_faculty) - ใช้ฟังก์ชันกับทุกค่าในคอลัมน์ 'คณะ'\n",
        " * apply() จะเรียกฟังก์ชันทีละแถวและส่งค่าในแถวนั้นเข้าไปในฟังก์ชัน"
      ],
      "metadata": {
        "id": "CI6pAVqbzrmJ"
      }
    },
    {
      "cell_type": "code",
      "source": [
        "df['คณะ_มาตรฐาน'] = df['คณะ'].apply(standardize_faculty)"
      ],
      "metadata": {
        "id": "O-FLRYhlzjnX"
      },
      "execution_count": 38,
      "outputs": []
    },
    {
      "cell_type": "markdown",
      "source": [
        "1. df['คณะ_มาตรฐาน'] - สร้างคอลัมน์ใหม่ที่เก็บชื่อคณะที่เป็นมาตรฐานแล้ว"
      ],
      "metadata": {
        "id": "VR0lEGZ6z7Cb"
      }
    },
    {
      "cell_type": "code",
      "source": [
        "# ตัวอย่างข้อมูลอายุนักศึกษาที่มีค่าผิดปกติ\n",
        "import pandas as pd"
      ],
      "metadata": {
        "id": "l0KAG8zizjyG"
      },
      "execution_count": 39,
      "outputs": []
    },
    {
      "cell_type": "code",
      "source": [
        "data = {\n",
        "    'ชื่อ': ['นักศึกษา1', 'นักศึกษา2', 'นักศึกษา3', 'นักศึกษา4', 'นักศึกษา5',\n",
        "             'นักศึกษา6', 'นักศึกษา7', 'นักศึกษา8', 'นักศึกษา9', 'นักศึกษา10'],\n",
        "    'อายุ': [20, 21, 22, 19, 20, 150, 21, 22, 23, 18]  # 150 คือค่าผิดปกติ\n",
        "}"
      ],
      "metadata": {
        "id": "qq0VEo71zj8I"
      },
      "execution_count": 40,
      "outputs": []
    },
    {
      "cell_type": "code",
      "source": [
        "df = pd.DataFrame(data)"
      ],
      "metadata": {
        "id": "tl7QTTTQzj--"
      },
      "execution_count": 41,
      "outputs": []
    },
    {
      "cell_type": "code",
      "source": [
        "print(\"ข้อมูลต้นฉบับ\")\n",
        "print(df)\n",
        "print(f\"\\nค่าเฉลี่ยอายุ (รวมค่าผิดปกติ) - {df['อายุ'].mean():.2f}\")"
      ],
      "metadata": {
        "colab": {
          "base_uri": "https://localhost:8080/"
        },
        "id": "zG9XBsKqzkBc",
        "outputId": "5b9dda05-3e29-4d0a-affa-54c6b1375e8c"
      },
      "execution_count": 42,
      "outputs": [
        {
          "output_type": "stream",
          "name": "stdout",
          "text": [
            "ข้อมูลต้นฉบับ\n",
            "         ชื่อ  อายุ\n",
            "0   นักศึกษา1    20\n",
            "1   นักศึกษา2    21\n",
            "2   นักศึกษา3    22\n",
            "3   นักศึกษา4    19\n",
            "4   นักศึกษา5    20\n",
            "5   นักศึกษา6   150\n",
            "6   นักศึกษา7    21\n",
            "7   นักศึกษา8    22\n",
            "8   นักศึกษา9    23\n",
            "9  นักศึกษา10    18\n",
            "\n",
            "ค่าเฉลี่ยอายุ (รวมค่าผิดปกติ) - 33.60\n"
          ]
        }
      ]
    },
    {
      "cell_type": "code",
      "source": [
        "Q1 = df['อายุ'].quantile(0.25)\n",
        "Q3 = df['อายุ'].quantile(0.75)\n",
        "IQR = Q3 - Q1"
      ],
      "metadata": {
        "id": "dU9EwE4_zkDs"
      },
      "execution_count": 43,
      "outputs": []
    },
    {
      "cell_type": "markdown",
      "source": [
        "1. quantile(0.25) - หาค่า Quartile ที่ 1 (Q1) คือค่าที่มี 25% ของข้อมูลน้อยกว่าหรือเท่ากับค่านี้\n",
        "2. quantile(0.75) - หาค่า Quartile ที่ 3 (Q3) คือค่าที่มี 75% ของข้อมูลน้อยกว่าหรือเท่ากับค่านี้\n",
        "3. IQR = Q3 - Q1 - Interquartile Range คือช่วงระหว่าง Q1 และ Q3 บอกถึงการกระจายตัวของข้อมูลส่วนกลาง 50%"
      ],
      "metadata": {
        "id": "WiRwhktv0msX"
      }
    },
    {
      "cell_type": "code",
      "source": [
        "lower_bound = Q1 - 1.5 * IQR\n",
        "upper_bound = Q3 + 1.5 * IQR"
      ],
      "metadata": {
        "id": "kede0FAMzkPj"
      },
      "execution_count": 44,
      "outputs": []
    },
    {
      "cell_type": "markdown",
      "source": [
        "1. 1.5 * IQR - ตัวเลข 1.5 เป็นค่ามาตรฐานที่นิยมใช้ในการหาค่าผิดปกติ\n",
        "2. lower_bound และ upper_bound - ขอบเขตล่างและบนสำหรับตัดสินว่าค่าใดเป็นค่าผิดปกติ"
      ],
      "metadata": {
        "id": "EHpanwVh0rFd"
      }
    },
    {
      "cell_type": "code",
      "source": [
        "df_no_outliers = df[(df['อายุ'] >= lower_bound) & (df['อายุ'] <= upper_bound)]"
      ],
      "metadata": {
        "id": "g8yT9nW5zkSZ"
      },
      "execution_count": 45,
      "outputs": []
    },
    {
      "cell_type": "markdown",
      "source": [
        "1. df[(df['อายุ'] >= lower_bound) & (df['อายุ'] <= upper_bound)] - กรองเฉพาะแถวที่มีอายุอยู่ในช่วงที่กำหนด\n",
        " * & คือตัวดำเนินการ AND ใน pandas (ไม่ใช่ and)"
      ],
      "metadata": {
        "id": "Nn8obAcl06bA"
      }
    },
    {
      "cell_type": "code",
      "source": [
        "print(f\"\\nขอบเขตล่าง - {lower_bound}\")\n",
        "print(f\"ขอบเขตบน - {upper_bound}\")\n",
        "print(f\"\\nข้อมูลหลังกรองค่าผิดปกติ\")\n",
        "print(df_no_outliers)\n",
        "print(f\"\\nค่าเฉลี่ยอายุ (หลังกรองค่าผิดปกติ) - {df_no_outliers['อายุ'].mean():.2f}\")"
      ],
      "metadata": {
        "colab": {
          "base_uri": "https://localhost:8080/"
        },
        "id": "iCYdLtmG0QQh",
        "outputId": "0376d348-eb72-43aa-be44-8040074a30da"
      },
      "execution_count": 46,
      "outputs": [
        {
          "output_type": "stream",
          "name": "stdout",
          "text": [
            "\n",
            "ขอบเขตล่าง - 17.0\n",
            "ขอบเขตบน - 25.0\n",
            "\n",
            "ข้อมูลหลังกรองค่าผิดปกติ\n",
            "         ชื่อ  อายุ\n",
            "0   นักศึกษา1    20\n",
            "1   นักศึกษา2    21\n",
            "2   นักศึกษา3    22\n",
            "3   นักศึกษา4    19\n",
            "4   นักศึกษา5    20\n",
            "6   นักศึกษา7    21\n",
            "7   นักศึกษา8    22\n",
            "8   นักศึกษา9    23\n",
            "9  นักศึกษา10    18\n",
            "\n",
            "ค่าเฉลี่ยอายุ (หลังกรองค่าผิดปกติ) - 20.67\n"
          ]
        }
      ]
    },
    {
      "cell_type": "markdown",
      "source": [
        "วิธีนี้จะช่วยตัดค่าที่ออกนอกกลุ่มข้อมูลส่วนใหญ่มากเกินไป"
      ],
      "metadata": {
        "id": "SOMLOTP01Ddy"
      }
    },
    {
      "cell_type": "code",
      "source": [
        "# ก่อนแปลง\n",
        "data = pd.DataFrame({\n",
        "    'ชื่อ': ['A', 'B', 'C', 'D'],\n",
        "    'คณะ': ['วิทย์', 'ศิลป์', 'วิทย์', 'วิศวะ']\n",
        "})"
      ],
      "metadata": {
        "id": "-2nRLMJW1Fbv"
      },
      "execution_count": 47,
      "outputs": []
    },
    {
      "cell_type": "markdown",
      "source": [
        "1. pd.DataFrame({...}) - สร้าง DataFrame ตัวอย่างที่มีข้อมูลประเภท (คณะ) ที่ต้องการแปลง"
      ],
      "metadata": {
        "id": "FKn6E1lG1RYp"
      }
    },
    {
      "cell_type": "code",
      "source": [
        "data_encoded = pd.get_dummies(data, columns=['คณะ'])\n",
        "print(data_encoded)"
      ],
      "metadata": {
        "colab": {
          "base_uri": "https://localhost:8080/"
        },
        "id": "zbPeUdzI1Fs-",
        "outputId": "e7a76bec-58a3-460d-f1a4-c0bb7ab968e8"
      },
      "execution_count": 48,
      "outputs": [
        {
          "output_type": "stream",
          "name": "stdout",
          "text": [
            "  ชื่อ  คณะ_วิทย์  คณะ_วิศวะ  คณะ_ศิลป์\n",
            "0    A       True      False      False\n",
            "1    B      False      False       True\n",
            "2    C       True      False      False\n",
            "3    D      False       True      False\n"
          ]
        }
      ]
    },
    {
      "cell_type": "markdown",
      "source": [
        "1. pd.get_dummies(data, columns=['คณะ']) - แปลงคอลัมน์ 'คณะ' เป็นรูปแบบ One-Hot Encoding\n",
        " * get_dummies จะสร้างคอลัมน์ใหม่สำหรับแต่ละค่าที่เป็นไปได้ในคอลัมน์ 'คณะ'\n",
        " * ชื่อคอลัมน์ใหม่จะเป็น 'คณะ_ค่า' เช่น 'คณะ_วิทย์', 'คณะ_ศิลป์', 'คณะ_วิศวะ'\n",
        "2. แต่ละแถวจะมีค่า 1 ในคอลัมน์ที่ตรงกับคณะของตน และ 0 ในคอลัมน์อื่นๆ\n",
        "3. วิธีนี้ทำให้ AI เข้าใจข้อมูลประเภทโดยไม่สร้างลำดับความสำคัญที่ไม่จริง\n",
        "4. ตัวอย่าง - นักศึกษา A อยู่คณะวิทย์ จะมีค่า 1 ในคอลัมน์ 'คณะ_วิทย์' และ 0 ในคอลัมน์คณะอื่นๆ"
      ],
      "metadata": {
        "id": "5qm6Xp1T1Z2a"
      }
    },
    {
      "cell_type": "code",
      "source": [
        "# ตัวอย่างข้อมูลเกี่ยวกับร้านกาแฟ\n",
        "coffee_data = pd.DataFrame({\n",
        "    'วันเวลา': pd.to_datetime(['2024-01-15 07:30', '2024-01-15 12:00',\n",
        "                               '2024-01-15 16:30', '2024-01-16 08:00']),\n",
        "    'ยอดขาย': [1500, 3200, 2100, 1800]\n",
        "})"
      ],
      "metadata": {
        "id": "eSVgChdJ1F8g"
      },
      "execution_count": 50,
      "outputs": []
    },
    {
      "cell_type": "markdown",
      "source": [
        "1. pd.to_datetime([...]) - แปลง string ให้เป็นประเภท datetime ที่ pandas สามารถจัดการและคำนวณได้"
      ],
      "metadata": {
        "id": "VleezyJk2t__"
      }
    },
    {
      "cell_type": "code",
      "source": [
        "# สร้าง features ใหม่\n",
        "coffee_data['ชั่วโมง'] = coffee_data['วันเวลา'].dt.hour\n",
        "coffee_data['วันในสัปดาห์'] = coffee_data['วันเวลา'].dt.day_name()\n",
        "coffee_data['ช่วงเวลา'] = pd.cut(coffee_data['ชั่วโมง'],\n",
        "                                  bins=[0, 10, 14, 18, 24],\n",
        "                                  labels=['เช้า', 'กลางวัน', 'บ่าย', 'เย็น'])"
      ],
      "metadata": {
        "id": "4RvEewaE1GSb"
      },
      "execution_count": 51,
      "outputs": []
    },
    {
      "cell_type": "markdown",
      "source": [
        "1. .dt.hour - ดึงชั่วโมงจาก datetime (เช่น 07:30 จะได้ 7, 12:00 จะได้ 12)\n",
        "2. .dt.day_name() - ดึงชื่อวันในสัปดาห์เป็นภาษาอังกฤษ (เช่น Monday, Tuesday)\n",
        "3. pd.cut() - แบ่งข้อมูลตัวเลขเป็นช่วง (bins) และใส่ label ให้แต่ละช่วง\n",
        " * bins=[0, 10, 14, 18, 24] - กำหนดขอบเขตของแต่ละช่วง (0-10, 10-14, 14-18, 18-24)\n",
        " * labels=['เช้า', 'กลางวัน', 'บ่าย', 'เย็น'] - ชื่อที่จะใช้เรียกแต่ละช่วง"
      ],
      "metadata": {
        "id": "47wPYz-m2vIw"
      }
    },
    {
      "cell_type": "code",
      "source": [
        "print(coffee_data[['วันเวลา', 'ช่วงเวลา', 'ยอดขาย']])"
      ],
      "metadata": {
        "id": "F2DD3jO31GZ0"
      },
      "execution_count": null,
      "outputs": []
    },
    {
      "cell_type": "markdown",
      "source": [
        "วิธีนี้ช่วยให้ AI เห็น patterns ตามเวลา เช่น กาแฟขายดีที่สุดช่วงกลางวัน"
      ],
      "metadata": {
        "id": "8cIHCVah29ph"
      }
    },
    {
      "cell_type": "code",
      "source": [
        "# ตัวอย่าง - สร้าง BMI จากส่วนสูงและน้ำหนัก\n",
        "student_health = pd.DataFrame({\n",
        "    'ชื่อ': ['สมชาย', 'สมหญิง', 'สมศักดิ์'],\n",
        "    'ส่วนสูง_cm': [170, 165, 175],\n",
        "    'น้ำหนัก_kg': [65, 55, 80]\n",
        "})"
      ],
      "metadata": {
        "id": "eYoz8tsB1Gg8"
      },
      "execution_count": 52,
      "outputs": []
    },
    {
      "cell_type": "code",
      "source": [
        "# สร้าง BMI\n",
        "student_health['BMI'] = student_health['น้ำหนัก_kg'] / (student_health['ส่วนสูง_cm']/100)**2\n",
        "student_health['สุขภาพ'] = pd.cut(student_health['BMI'],\n",
        "                                   bins=[0, 18.5, 25, 30, 100],\n",
        "                                   labels=['ผอม', 'ปกติ', 'อ้วน', 'อ้วนมาก'])\n"
      ],
      "metadata": {
        "id": "ga0Joi2e1Gj2"
      },
      "execution_count": 53,
      "outputs": []
    },
    {
      "cell_type": "markdown",
      "source": [
        "1. **2 - ยกกำลังสอง (เทียบเท่ากับ x²)\n",
        "2. สูตร BMI = น้ำหนัก(กิโลกรัม) / ส่วนสูง(เมตร)²\n",
        "3. pd.cut() - แบ่งค่า BMI เป็นช่วงตามเกณฑ์มาตรฐาน\n",
        " * 0-18.5 = ผอม\n",
        " * 18.5-25 = ปกติ\n",
        " * 25-30 = อ้วน\n",
        " * 30-100 = อ้วนมาก\n",
        "4. การรวม features แบบนี้สร้างข้อมูลใหม่ที่มีความหมายมากกว่าข้อมูลดิบ"
      ],
      "metadata": {
        "id": "YLOKhDqb1Gmu"
      }
    },
    {
      "cell_type": "code",
      "source": [
        "print(student_health[['ชื่อ', 'BMI', 'สุขภาพ']])"
      ],
      "metadata": {
        "colab": {
          "base_uri": "https://localhost:8080/"
        },
        "id": "JtppGYUu1Grl",
        "outputId": "3b568c16-454f-411a-f849-81fba7e43967"
      },
      "execution_count": 54,
      "outputs": [
        {
          "output_type": "stream",
          "name": "stdout",
          "text": [
            "       ชื่อ        BMI สุขภาพ\n",
            "0     สมชาย  22.491349   ปกติ\n",
            "1    สมหญิง  20.202020   ปกติ\n",
            "2  สมศักดิ์  26.122449   อ้วน\n"
          ]
        }
      ]
    },
    {
      "cell_type": "markdown",
      "source": [
        "AI จะเข้าใจความสัมพันธ์ระหว่างสุขภาพกับปัจจัยอื่นๆ ได้ดีขึ้น"
      ],
      "metadata": {
        "id": "HqKGZqd_3fCE"
      }
    },
    {
      "cell_type": "code",
      "source": [
        "# สร้าง dataset ตัวอย่าง\n",
        "import pandas as pd\n",
        "import numpy as np"
      ],
      "metadata": {
        "id": "2mmwoOpQ1Gtt"
      },
      "execution_count": 55,
      "outputs": []
    },
    {
      "cell_type": "markdown",
      "source": [
        "1. import pandas as pd และ import numpy as np - นำเข้าไลบรารีที่จำเป็น pandas สำหรับจัดการข้อมูล, numpy สำหรับการคำนวณ"
      ],
      "metadata": {
        "id": "Jy9n3Xuh3wtW"
      }
    },
    {
      "cell_type": "code",
      "source": [
        "# ข้อมูลดิบที่มีปัญหา\n",
        "raw_data = {\n",
        "    'รหัสนักศึกษา': ['64001', '64002', '64003', '64004', '64005'],\n",
        "    'ชื่อ': ['สมชาย', 'สมหญิง', None, 'สมศักดิ์', 'สมใจ'],\n",
        "    'คณะ': ['วิทย์', 'ศิลปศาสตร์', 'วิทยาศาสตร์', 'Arts', 'วิศวะ'],\n",
        "    'ชั้นปี': [2, 3, 2, None, 4],\n",
        "    'GPA': [3.2, 3.8, -1, 2.9, 4.5],  # -1 และ 4.5 ผิดปกติ\n",
        "    'กิจกรรม': ['กีฬา', 'ดนตรี', 'กีฬา,ดนตรี', None, 'อาสา'],\n",
        "    'เวลาเข้าร่วม': ['08:00', '9.30', '08:30', '08:00', None]\n",
        "}\n"
      ],
      "metadata": {
        "id": "RcKTP5sP1GwV"
      },
      "execution_count": 56,
      "outputs": []
    },
    {
      "cell_type": "markdown",
      "source": [
        "1. raw_data = {...} - สร้าง dictionary ที่เก็บข้อมูลดิบ โดยมีปัญหาตามจริงที่พบในงาน\n",
        " * None แทนค่าหาย (จะแสดงเป็น NaN ใน DataFrame)\n",
        " * ชื่อคณะไม่เป็นมาตรฐาน (วิทย์, วิทยาศาสตร์, Arts)\n",
        " * GPA ผิดปกติ (-1 และ 4.5)\n",
        " * รูปแบบเวลาไม่สม่ำเสมอ ('9.30' แทนที่จะเป็น '09:30')"
      ],
      "metadata": {
        "id": "6XbezU143zTN"
      }
    },
    {
      "cell_type": "code",
      "source": [
        "df_student = pd.DataFrame(raw_data)"
      ],
      "metadata": {
        "id": "XN5tHdiM3sQF"
      },
      "execution_count": 57,
      "outputs": []
    },
    {
      "cell_type": "markdown",
      "source": [
        "1. pd.DataFrame(raw_data) - แปลง dictionary เป็น DataFrame"
      ],
      "metadata": {
        "id": "1Kk5s38o3y6b"
      }
    },
    {
      "cell_type": "code",
      "source": [
        "print(\"=== ข้อมูลดิบ ===\")\n",
        "print(df_student)\n",
        "print(\"\\nปัญหาที่พบ\")\n",
        "print(f\"- ข้อมูลหาย - {df_student.isnull().sum().sum()} ค่า\")\n",
        "print(f\"- GPA ผิดปกติ - {df_student[(df_student['GPA'] < 0) | (df_student['GPA'] > 4)]['GPA'].tolist()}\")"
      ],
      "metadata": {
        "colab": {
          "base_uri": "https://localhost:8080/"
        },
        "id": "760WKQ8F3t9r",
        "outputId": "47e055b9-278f-4bf1-cf7d-b518862a2c10"
      },
      "execution_count": 58,
      "outputs": [
        {
          "output_type": "stream",
          "name": "stdout",
          "text": [
            "=== ข้อมูลดิบ ===\n",
            "  รหัสนักศึกษา      ชื่อ          คณะ  ชั้นปี  GPA     กิจกรรม เวลาเข้าร่วม\n",
            "0        64001     สมชาย        วิทย์     2.0  3.2        กีฬา        08:00\n",
            "1        64002    สมหญิง   ศิลปศาสตร์     3.0  3.8       ดนตรี         9.30\n",
            "2        64003      None  วิทยาศาสตร์     2.0 -1.0  กีฬา,ดนตรี        08:30\n",
            "3        64004  สมศักดิ์         Arts     NaN  2.9        None        08:00\n",
            "4        64005      สมใจ        วิศวะ     4.0  4.5        อาสา         None\n",
            "\n",
            "ปัญหาที่พบ\n",
            "- ข้อมูลหาย - 4 ค่า\n",
            "- GPA ผิดปกติ - [-1.0, 4.5]\n"
          ]
        }
      ]
    },
    {
      "cell_type": "markdown",
      "source": [
        "1. isnull().sum().sum() - นับจำนวนค่าหายทั้งหมด\n",
        "2. isnull() ตรวจสอบว่าเป็น NaN หรือไม่ (True/False)\n",
        " * .sum() ตัวแรกนับจำนวน True ในแต่ละคอลัมน์\n",
        " * .sum() ตัวที่สองรวมทุกคอลัมน์\n",
        "3. (df_student['GPA'] < 0) | (df_student['GPA'] > 4) - หาแถวที่ GPA ผิดปกติ\n",
        " * | คือ OR operator ใน pandas\n",
        "4. .tolist() - แปลง pandas Series เป็น Python list เพื่อแสดงผล"
      ],
      "metadata": {
        "id": "lHGrCc2i4FBF"
      }
    },
    {
      "cell_type": "code",
      "source": [
        "# Step 1 - จัดการข้อมูลหาย\n",
        "# ชื่อที่หาย - ใช้ \"ไม่ระบุ\"\n",
        "df_student['ชื่อ'].fillna('ไม่ระบุ', inplace=True)"
      ],
      "metadata": {
        "id": "Hmshe-yv4R5P"
      },
      "execution_count": 59,
      "outputs": []
    },
    {
      "cell_type": "markdown",
      "source": [
        "1. fillna('ไม่ระบุ') - เติมข้อความ 'ไม่ระบุ' ในช่องชื่อที่เป็น NaN\n",
        "2. .mode()[0] - หาค่าที่พบบ่อยที่สุด (Mode) และเลือกค่าแรก ([0]) ในกรณีที่มีหลายค่า\n",
        "3. fillna() กับ inplace=True - แก้ไขข้อมูลใน DataFrame เดิมโดยตรง ไม่สร้างใหม่"
      ],
      "metadata": {
        "id": "_P2-45uR5JED"
      }
    },
    {
      "cell_type": "code",
      "source": [
        "# ชั้นปีที่หาย - ใช้ค่าที่พบบ่อยที่สุด\n",
        "mode_year = df_student['ชั้นปี'].mode()[0]\n",
        "df_student['ชั้นปี'].fillna(mode_year, inplace=True)"
      ],
      "metadata": {
        "id": "eMZke5L_4R2d"
      },
      "execution_count": 60,
      "outputs": []
    },
    {
      "cell_type": "code",
      "source": [
        "df_student['กิจกรรม'].fillna('ไม่ได้เข้าร่วม', inplace=True)"
      ],
      "metadata": {
        "id": "_CqkX6Wp4Rzm"
      },
      "execution_count": 61,
      "outputs": []
    },
    {
      "cell_type": "code",
      "source": [
        "# Step 2 - แก้ไข GPA ผิดปกติ\n",
        "df_student.loc[df_student['GPA'] < 0, 'GPA'] = np.nan\n",
        "df_student.loc[df_student['GPA'] > 4, 'GPA'] = 4.0\n",
        "mean_gpa = df_student['GPA'].mean()\n",
        "df_student['GPA'].fillna(mean_gpa, inplace=True)"
      ],
      "metadata": {
        "id": "TIZtCBAI4Rwn"
      },
      "execution_count": 62,
      "outputs": []
    },
    {
      "cell_type": "markdown",
      "source": [
        "1. df_student.loc[condition, column] - เลือกแถวตามเงื่อนไขและระบุคอลัมน์ที่จะแก้ไข\n",
        "2. df_student['GPA'] < 0 - หาแถวที่ GPA ติดลบ แล้วเปลี่ยนเป็น NaN\n",
        "3. df_student['GPA'] > 4 - หาแถวที่ GPA เกิน 4.0 แล้วเปลี่ยนเป็น 4.0\n",
        "4. คำนวณค่าเฉลี่ย GPA จากค่าที่ถูกต้อง แล้วเติมในช่องที่เป็น NaN"
      ],
      "metadata": {
        "id": "OJjPlM6j5j79"
      }
    },
    {
      "cell_type": "code",
      "source": [
        "# Step 3 - ทำให้ชื่อคณะเป็นมาตรฐาน\n",
        "faculty_mapping = {\n",
        "    'วิทย์': 'วิทยาศาสตร์',\n",
        "    'วิทยาศาสตร์': 'วิทยาศาสตร์',\n",
        "    'ศิลปศาสตร์': 'ศิลปศาสตร์',\n",
        "    'Arts': 'ศิลปศาสตร์',\n",
        "    'วิศวะ': 'วิศวกรรมศาสตร์'\n",
        "}"
      ],
      "metadata": {
        "id": "6f-IWGLl4Rt6"
      },
      "execution_count": 63,
      "outputs": []
    },
    {
      "cell_type": "markdown",
      "source": [
        "1. faculty_mapping - สร้าง dictionary สำหรับแปลงชื่อคณะ\n",
        "2. .map() - แปลงค่าในคอลัมน์ตาม mapping ที่กำหนด\n",
        "3. ชื่อคณะทุกรูปแบบจะถูกแปลงเป็นชื่อมาตรฐาน"
      ],
      "metadata": {
        "id": "1Z6lui9s5p1T"
      }
    },
    {
      "cell_type": "code",
      "source": [
        "df_student['คณะ'] = df_student['คณะ'].map(faculty_mapping)"
      ],
      "metadata": {
        "id": "ak5mQ2_J4Roy"
      },
      "execution_count": 65,
      "outputs": []
    },
    {
      "cell_type": "code",
      "source": [
        "# Step 4 - แปลงเวลาให้เป็นรูปแบบเดียวกัน\n",
        "def standardize_time(time_str):\n",
        "    if pd.isna(time_str):\n",
        "        return '08:00'  # ค่าเริ่มต้น\n",
        "    time_str = str(time_str).replace('.', ':')\n",
        "    if len(time_str.split(':')[0]) == 1:\n",
        "        time_str = '0' + time_str\n",
        "    return time_str"
      ],
      "metadata": {
        "id": "r2j6Wfrk4Rd2"
      },
      "execution_count": 64,
      "outputs": []
    },
    {
      "cell_type": "markdown",
      "source": [
        "1. pd.isna() - ตรวจสอบว่าเป็น NaN หรือไม่\n",
        "2. str(time_str) - แปลงเป็น string เพื่อจัดการข้อความ\n",
        "3. .replace('.', ':') - เปลี่ยนจุดเป็นโคลอน (9.30 → 9:30)\n",
        "4. .split(':')[0] - แยกชั่วโมงออกมาเพื่อตรวจสอบความยาว\n",
        "5. ถ้าชั่วโมงมีแค่ 1 หลัก จะเติม 0 ข้างหน้า (9:00 → 09:00)"
      ],
      "metadata": {
        "id": "oinX6T1N5xCj"
      }
    },
    {
      "cell_type": "code",
      "source": [
        "df_student['เวลาเข้าร่วม'] = df_student['เวลาเข้าร่วม'].apply(standardize_time)"
      ],
      "metadata": {
        "id": "5pzjtA4L4y-k"
      },
      "execution_count": 66,
      "outputs": []
    },
    {
      "cell_type": "markdown",
      "source": [
        ".apply() - ใช้ฟังก์ชันกับทุกค่าในคอลัมน์"
      ],
      "metadata": {
        "id": "HlpkDjZZ57IX"
      }
    },
    {
      "cell_type": "code",
      "source": [
        "print(\"\\n=== ข้อมูลหลังทำความสะอาด ===\")\n",
        "print(df_student)"
      ],
      "metadata": {
        "colab": {
          "base_uri": "https://localhost:8080/"
        },
        "id": "4ZhPWbqg40aW",
        "outputId": "7547f74b-9e71-4e6b-8742-8f9bd00a7ce3"
      },
      "execution_count": 68,
      "outputs": [
        {
          "output_type": "stream",
          "name": "stdout",
          "text": [
            "\n",
            "=== ข้อมูลหลังทำความสะอาด ===\n",
            "  รหัสนักศึกษา      ชื่อ             คณะ  ชั้นปี    GPA         กิจกรรม  \\\n",
            "0        64001     สมชาย     วิทยาศาสตร์     2.0  3.200            กีฬา   \n",
            "1        64002    สมหญิง      ศิลปศาสตร์     3.0  3.800           ดนตรี   \n",
            "2        64003   ไม่ระบุ     วิทยาศาสตร์     2.0  3.475      กีฬา,ดนตรี   \n",
            "3        64004  สมศักดิ์      ศิลปศาสตร์     2.0  2.900  ไม่ได้เข้าร่วม   \n",
            "4        64005      สมใจ  วิศวกรรมศาสตร์     4.0  4.000            อาสา   \n",
            "\n",
            "  เวลาเข้าร่วม  ชั่วโมง ช่วงเวลา  \n",
            "0        08:00        8     เช้า  \n",
            "1        09:30        9     เช้า  \n",
            "2        08:30        8     เช้า  \n",
            "3        08:00        8     เช้า  \n",
            "4        08:00        8     เช้า  \n"
          ]
        }
      ]
    },
    {
      "cell_type": "code",
      "source": [
        "# Feature 1 - แปลงเวลาเป็นช่วงเวลา\n",
        "df_student['ชั่วโมง'] = pd.to_datetime(df_student['เวลาเข้าร่วม'], format='%H:%M').dt.hour\n",
        "df_student['ช่วงเวลา'] = pd.cut(df_student['ชั่วโมง'],\n",
        "                                 bins=[0, 9, 12, 24],\n",
        "                                 labels=['เช้า', 'สาย', 'บ่าย'])"
      ],
      "metadata": {
        "id": "ewmpwhHe6ISF"
      },
      "execution_count": 67,
      "outputs": []
    },
    {
      "cell_type": "markdown",
      "source": [
        "1. pd.to_datetime(..., format='%H:%M') - แปลง string เวลาเป็น datetime object\n",
        " * format='%H:%M' บอกรูปแบบว่าเป็น ชั่วโมง-นาที\n",
        "2. .dt.hour - ดึงเฉพาะชั่วโมงออกมา (08:00 → 8, 09:30 → 9)\n",
        "3. pd.cut() - แบ่งช่วงเวลา\n",
        " * 0-9 = 'เช้า' (กิจกรรมเริ่มเช้า)\n",
        " * 9-12 = 'สาย' (กิจกรรมเริ่มสาย)\n",
        " * 12-24 = 'บ่าย' (กิจกรรมช่วงบ่าย)"
      ],
      "metadata": {
        "id": "sCEJwsAM6JeC"
      }
    },
    {
      "cell_type": "code",
      "source": [
        "# Feature 2 - นับจำนวนกิจกรรม\n",
        "df_student['จำนวนกิจกรรม'] = df_student['กิจกรรม'].apply(\n",
        "    lambda x: len(x.split(',')) if x != 'ไม่ได้เข้าร่วม' else 0\n",
        ")"
      ],
      "metadata": {
        "id": "iqi57cMa6ILu"
      },
      "execution_count": 69,
      "outputs": []
    },
    {
      "cell_type": "markdown",
      "source": [
        "1. lambda x: - สร้างฟังก์ชันแบบย่อ\n",
        "2. x.split(',') - แยกกิจกรรมด้วยเครื่องหมายคอมมา\n",
        " * 'กีฬา,ดนตรี' → ['กีฬา', 'ดนตรี']\n",
        "3. len() - นับจำนวนกิจกรรมหลังแยก\n",
        "4. if x != 'ไม่ได้เข้าร่วม' else 0 - ถ้าไม่ได้เข้าร่วมให้นับเป็น 0"
      ],
      "metadata": {
        "id": "8KS59bki6gAQ"
      }
    },
    {
      "cell_type": "code",
      "source": [
        "# Feature 3 - จัดกลุ่มผลการเรียน\n",
        "df_student['ระดับผลการเรียน'] = pd.cut(df_student['GPA'],\n",
        "                                        bins=[0, 2.0, 3.0, 3.5, 4.0],\n",
        "                                        labels=['ต่ำ', 'ปานกลาง', 'ดี', 'ดีมาก'])"
      ],
      "metadata": {
        "id": "OsFHXEQx6IHF"
      },
      "execution_count": 70,
      "outputs": []
    },
    {
      "cell_type": "markdown",
      "source": [
        "1.bins=[0, 2.0, 3.0, 3.5, 4.0] - กำหนดช่วง GPA:\n",
        " * 0-2.0 = 'ต่ำ'\n",
        " * 2.0-3.0 = 'ปานกลาง'\n",
        " * 3.0-3.5 = 'ดี'\n",
        " * 3.5-4.0 = 'ดีมาก'\n",
        "2. แปลง GPA ที่เป็นตัวเลขให้เป็นกลุ่มที่มีความหมาย"
      ],
      "metadata": {
        "id": "7b6lLHfi6vSh"
      }
    },
    {
      "cell_type": "code",
      "source": [
        "# Feature 4 - One-Hot Encoding สำหรับคณะ\n",
        "df_encoded = pd.get_dummies(df_student, columns=['คณะ'], prefix='คณะ')"
      ],
      "metadata": {
        "id": "8kyE6BcV6MTq"
      },
      "execution_count": 71,
      "outputs": []
    },
    {
      "cell_type": "markdown",
      "source": [
        "1. pd.get_dummies() - แปลงข้อมูลประเภทเป็นคอลัมน์แยก\n",
        "2. columns=['คณะ'] - ระบุคอลัมน์ที่จะแปลง\n",
        "3. prefix='คณะ' - ใส่คำนำหน้าชื่อคอลัมน์ใหม่\n",
        "4. ผลลัพธ์ - สร้างคอลัมน์ใหม่ เช่น 'คณะ_วิทยาศาสตร์', 'คณะ_ศิลปศาสตร์', 'คณะ_วิศวกรรมศาสตร์'\n",
        "5. .columns.tolist() - แสดงรายชื่อคอลัมน์ทั้งหมดเป็น list"
      ],
      "metadata": {
        "id": "pFUV-_1c6-nD"
      }
    },
    {
      "cell_type": "code",
      "source": [
        "print(\"\\n=== ข้อมูลหลัง Feature Engineering ===\")\n",
        "print(df_encoded[['รหัสนักศึกษา', 'ช่วงเวลา', 'จำนวนกิจกรรม', 'ระดับผลการเรียน']])\n",
        "print(\"\\nคอลัมน์ทั้งหมด\")\n",
        "print(df_encoded.columns.tolist())"
      ],
      "metadata": {
        "colab": {
          "base_uri": "https://localhost:8080/"
        },
        "id": "quFCMdgc6ICY",
        "outputId": "0c18002d-e406-4cb6-a074-bfd0ebb3eb6e"
      },
      "execution_count": 72,
      "outputs": [
        {
          "output_type": "stream",
          "name": "stdout",
          "text": [
            "\n",
            "=== ข้อมูลหลัง Feature Engineering ===\n",
            "  รหัสนักศึกษา ช่วงเวลา  จำนวนกิจกรรม ระดับผลการเรียน\n",
            "0        64001     เช้า             1              ดี\n",
            "1        64002     เช้า             1           ดีมาก\n",
            "2        64003     เช้า             2              ดี\n",
            "3        64004     เช้า             0         ปานกลาง\n",
            "4        64005     เช้า             1           ดีมาก\n",
            "\n",
            "คอลัมน์ทั้งหมด\n",
            "['รหัสนักศึกษา', 'ชื่อ', 'ชั้นปี', 'GPA', 'กิจกรรม', 'เวลาเข้าร่วม', 'ชั่วโมง', 'ช่วงเวลา', 'จำนวนกิจกรรม', 'ระดับผลการเรียน', 'คณะ_วิทยาศาสตร์', 'คณะ_วิศวกรรมศาสตร์', 'คณะ_ศิลปศาสตร์']\n"
          ]
        }
      ]
    },
    {
      "cell_type": "code",
      "source": [
        "# ดูข้อมูลเบื้องต้น\n",
        "print(df.info())\n",
        "print(df.describe())\n",
        "print(df.head())"
      ],
      "metadata": {
        "colab": {
          "base_uri": "https://localhost:8080/"
        },
        "id": "j8O7Q03-7YDj",
        "outputId": "1b2b5621-4443-4734-cd0b-a9b6877c794c"
      },
      "execution_count": 74,
      "outputs": [
        {
          "output_type": "stream",
          "name": "stdout",
          "text": [
            "<class 'pandas.core.frame.DataFrame'>\n",
            "RangeIndex: 10 entries, 0 to 9\n",
            "Data columns (total 2 columns):\n",
            " #   Column  Non-Null Count  Dtype \n",
            "---  ------  --------------  ----- \n",
            " 0   ชื่อ    10 non-null     object\n",
            " 1   อายุ    10 non-null     int64 \n",
            "dtypes: int64(1), object(1)\n",
            "memory usage: 292.0+ bytes\n",
            "None\n",
            "             อายุ\n",
            "count   10.000000\n",
            "mean    33.600000\n",
            "std     40.925949\n",
            "min     18.000000\n",
            "25%     20.000000\n",
            "50%     21.000000\n",
            "75%     22.000000\n",
            "max    150.000000\n",
            "        ชื่อ  อายุ\n",
            "0  นักศึกษา1    20\n",
            "1  นักศึกษา2    21\n",
            "2  นักศึกษา3    22\n",
            "3  นักศึกษา4    19\n",
            "4  นักศึกษา5    20\n"
          ]
        }
      ]
    },
    {
      "cell_type": "markdown",
      "source": [
        "1. df.info() - แสดงข้อมูลทั่วไปของ DataFrame:\n",
        " * จำนวนแถวและคอลัมน์\n",
        " * ชื่อคอลัมน์และประเภทข้อมูล\n",
        " * จำนวนค่าที่ไม่ใช่ null ในแต่ละคอลัมน์\n",
        " * หน่วยความจำที่ใช้\n",
        "2. df.describe() - แสดงสถิติพื้นฐานของคอลัมน์ตัวเลข\n",
        " * count (จำนวนข้อมูล)\n",
        " * mean (ค่าเฉลี่ย)\n",
        " * std (ส่วนเบี่ยงเบนมาตรฐาน)\n",
        " * min, 25%, 50%, 75%, max (ค่าต่ำสุด, ควอไทล์, ค่าสูงสุด)\n",
        "3. df.head() - แสดง 5 แถวแรกของข้อมูล (default) เพื่อดูตัวอย่างข้อมูล"
      ],
      "metadata": {
        "id": "GjiyVYPd7aXM"
      }
    },
    {
      "cell_type": "code",
      "source": [
        "# สร้าง log การแก้ไข\n",
        "changes_log = []\n",
        "changes_log.append(\"แทนค่า GPA -1 ด้วย NaN\")\n",
        "changes_log.append(f\"เติม GPA ที่หายด้วยค่าเฉลี่ย {mean_gpa:.2f}\")"
      ],
      "metadata": {
        "id": "tfbC1IId7muK"
      },
      "execution_count": 73,
      "outputs": []
    },
    {
      "cell_type": "markdown",
      "source": [
        "1. changes_log = [] - สร้าง list เปล่าสำหรับเก็บบันทึกการเปลี่ยนแปลง\n",
        "2. .append() - เพิ่มข้อความเข้าไปใน list\n",
        "3. f\"...{mean_gpa:.2f}\" - f-string สำหรับแทรกค่าตัวแปรในข้อความ\n",
        " * {mean_gpa:.2f} แสดงค่าเฉลี่ย GPA ด้วยทศนิยม 2 ตำแหน่ง\n",
        "4. การทำ log แบบนี้ช่วยให้ติดตามว่าเราแก้ไขอะไรไปบ้าง สามารถย้อนกลับมาดูได้"
      ],
      "metadata": {
        "id": "X7gtzE7a7oxW"
      }
    },
    {
      "cell_type": "code",
      "source": [
        "# ตรวจสอบว่าไม่มีค่าหายแล้ว\n",
        "assert df.isnull().sum().sum() == 0, \"ยังมีค่าหายอยู่!\""
      ],
      "metadata": {
        "id": "nccsnEL37mYw"
      },
      "execution_count": 75,
      "outputs": []
    },
    {
      "cell_type": "markdown",
      "source": [
        "1. assert - คำสั่งสำหรับตรวจสอบเงื่อนไข ถ้าเงื่อนไขเป็น False จะแสดง error\n",
        "2. df.isnull().sum().sum() == 0 - ตรวจสอบว่าไม่มีค่า null เหลืออยู่\n",
        " * isnull() - ตรวจสอบค่า null ได้ DataFrame ของ True/False\n",
        " * .sum() ตัวแรก - นับ True ในแต่ละคอลัมน์\n",
        " * .sum() ตัวที่สอง - รวมทุกคอลัมน์\n",
        " * == 0 - ต้องเท่ากับ 0 (ไม่มีค่า null)\n",
        "3. \"ยังมีค่าหายอยู่!\" - ข้อความที่จะแสดงถ้าเงื่อนไขเป็น False\n",
        "4. ใช้ assert เพื่อตรวจสอบคุณภาพข้อมูลหลังทำความสะอาด"
      ],
      "metadata": {
        "id": "l4g5IPer7zyT"
      }
    },
    {
      "cell_type": "code",
      "source": [
        "df_clean = df.copy()  # ทำแบบนี้เสมอ"
      ],
      "metadata": {
        "id": "nWtH6H218GVb"
      },
      "execution_count": 76,
      "outputs": []
    },
    {
      "cell_type": "markdown",
      "source": [
        "1. df.copy() - สร้างสำเนาของ DataFrame\n",
        "2. สำคัญมาก! ถ้าไม่ใช้ .copy() การแก้ไข df_clean จะกระทบ df ด้วย\n",
        "3. เหตุผล - pandas ใช้การอ้างอิง (reference) ไม่ใช่การคัดลอกค่า\n",
        "การใช้ .copy()\n",
        "4. ทำให้มั่นใจว่าข้อมูลต้นฉบับปลอดภัย"
      ],
      "metadata": {
        "id": "1gjypY348J2_"
      }
    }
  ]
}